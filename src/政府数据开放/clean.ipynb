{
 "cells": [
  {
   "metadata": {
    "ExecuteTime": {
     "end_time": "2025-03-24T05:16:19.396598Z",
     "start_time": "2025-03-24T05:16:19.393262Z"
    }
   },
   "cell_type": "code",
   "source": [
    "# if there is a ImportError, run the follow code `pip install openpyxl`\n",
    "# !pip install openpyxl"
   ],
   "id": "fb43798c08bc4b3d",
   "outputs": [],
   "execution_count": 1
  },
  {
   "cell_type": "code",
   "id": "initial_id",
   "metadata": {
    "collapsed": true,
    "ExecuteTime": {
     "end_time": "2025-03-24T05:16:19.823242Z",
     "start_time": "2025-03-24T05:16:19.397885Z"
    }
   },
   "source": [
    "import pandas as pd\n",
    "import numpy as np\n",
    "\n",
    "file_path = 'data/历年开放数林指数数据集2024.xlsx'\n",
    "\n",
    "# 针对 .xlsx 显式指定引擎\n",
    "with pd.ExcelFile(file_path, engine=\"openpyxl\") as excel:\n",
    "    sheet_names = excel.sheet_names"
   ],
   "outputs": [],
   "execution_count": 2
  },
  {
   "metadata": {
    "ExecuteTime": {
     "end_time": "2025-03-24T05:16:20.402321Z",
     "start_time": "2025-03-24T05:16:19.824723Z"
    }
   },
   "cell_type": "code",
   "source": [
    "# 2017年数据\n",
    "df_2017 = pd.read_excel(file_path, sheet_name=\"2017年\")[:-2]\n",
    "df_2017.columns = [\"city\", \"data_index\", \"data_rank\", \"platform_index\", \"platform_rank\", \"total_index\", \"total_rank\"]\n",
    "\n",
    "# 2018年数据\n",
    "df_2018_prov = pd.read_excel(file_path, sheet_name=\"2018省级\")[:-2]\n",
    "df_2018_prov.columns = [\"city\", \"data_index\", \"data_rank\", \"platform_index\", \"platform_rank\", \"prepare_index\", \"prepare_rank\", \"total_index\", \"total_rank\", \"valuable_num\"]\n",
    "df_2018_prefecture = pd.read_excel(file_path, sheet_name=\"2018地级\")[:-2]\n",
    "df_2018_prefecture.columns = [\"city\", \"data_index\", \"platform_index\", \"prepare_index\", \"total_index\"]\n",
    "\n",
    "# 2019年数据\n",
    "df_2019_prov = pd.read_excel(file_path, sheet_name=\"2019省级\")[:-2]\n",
    "df_2019_prov.columns = [\"city\", \"data_index\", \"platform_index\", \"prepare_index\", \"use_index\", \"total_index\", \"total_rank\", \"valuable_num\"]\n",
    "df_2019_prefecture = pd.read_excel(file_path, sheet_name=\"2019地级\")[:-2]\n",
    "df_2019_prefecture.columns = [\"city\", \"data_index\", \"platform_index\", \"prepare_index\", \"use_index\", \"total_index\"]\n",
    "\n",
    "\n",
    "# 2020年数据\n",
    "df_2020_prov = pd.read_excel(file_path, sheet_name=\"2020省级\")[:-2]\n",
    "df_2020_prov.columns = [\"city\", \"prepare_index\", \"platform_index\", \"data_index\", \"use_index\", \"total_index\", \"total_rank\", \"valuable_num_prov\", \"valuable_num_prov_area\"]\n",
    "df_2020_prefecture = pd.read_excel(file_path, sheet_name=\"2020地级\")[:-2]\n",
    "df_2020_prefecture.columns = [\"city\", \"prepare_index\", \"platform_index\", \"data_index\", \"use_index\", \"total_index\"]\n",
    "\n",
    "# 2021年数据\n",
    "df_2021_prov = pd.read_excel(file_path, sheet_name=\"2021省域\")[:-2]\n",
    "df_2021_prov.columns = [\"city\", \"prepare_index\", \"prepare_rank\", \"platform_index\", \"platform_rank\", \"data_index\", \"data_rank\", \"use_index\", \"use_rank\", \"total_index\", \"total_rank\", \"valuable_num_prov\", \"valuable_num_prov_area\"]\n",
    "df_2021_city = pd.read_excel(file_path, sheet_name=\"2021城市\")[:-2]\n",
    "df_2021_city.columns = [\"city\", \"prepare_index\", \"platform_index\", \"data_index\", \"use_index\", \"total_index\"]\n",
    "\n",
    "# 2022年数据\n",
    "df_2022_prov = pd.read_excel(file_path, sheet_name=\"2022省域\")[:-2]\n",
    "df_2022_prov.columns = [\"city\", \"prepare_index\", \"prepare_rank\", \"platform_index\", \"platform_rank\", \"data_index\", \"data_rank\", \"use_index\", \"use_rank\", \"total_index\", \"total_rank\", \"valuable_num_prov\", \"valuable_num_prov_area\"]\n",
    "df_2022_city = pd.read_excel(file_path, sheet_name=\"2022城市\")[:-2]\n",
    "df_2022_city.columns = [\"city\", \"prepare_index\", \"platform_index\", \"data_index\", \"use_index\", \"total_index\"]\n",
    "\n",
    "# 2023年数据\n",
    "df_2023_prov = pd.read_excel(file_path, sheet_name=\"2023省域\")[:-2]\n",
    "df_2023_prov.columns = [\"city\", \"prepare_index\", \"serve_index\", \"data_index\", \"use_index\", \"total_index\"]\n",
    "df_2023_city = pd.read_excel(file_path, sheet_name=\"2023城市\")[:-2]\n",
    "df_2023_city.columns = [\"city\", \"prepare_index\", \"serve_index\", \"data_index\", \"use_index\", \"total_index\"]\n",
    "\n",
    "# 2024年数据\n",
    "df_2024_prov = pd.read_excel(file_path, sheet_name=\"2024省域\")[:-2]\n",
    "df_2024_prov.columns = [\"city\", \"assure_index\", \"serve_index\", \"data_index\", \"use_index\", \"total_index\", \"rank_2023\"]\n",
    "df_2024_city = pd.read_excel(file_path, sheet_name=\"2024城市\")[:-2]\n",
    "df_2024_city.columns = [\"city\", \"assure_index\", \"serve_index\", \"data_index\", \"use_index\", \"total_index\"]"
   ],
   "id": "1f12825472cd94b1",
   "outputs": [],
   "execution_count": 3
  },
  {
   "metadata": {
    "ExecuteTime": {
     "end_time": "2025-03-24T05:16:20.412817Z",
     "start_time": "2025-03-24T05:16:20.403140Z"
    }
   },
   "cell_type": "code",
   "source": [
    "# 为每个数据框添加年份和类型列\n",
    "def add_metadata(df, year, type_name):\n",
    "    df_copy = df.copy()\n",
    "    df_copy['year'] = year\n",
    "    df_copy['type'] = type_name\n",
    "    return df_copy\n",
    "\n",
    "# 将\"/\"替换为NaN\n",
    "def replace_slash_with_nan(df):\n",
    "    return df.replace([\"/\", \"／\", \"-\", \"空\", \"\"], np.nan)\n",
    "\"\"\"\n",
    "replace_slash_with_nan() 函数出现如下警告为正常现象\n",
    "/var/folders/m7/k7s5k7vj02zd19n13d0b4f300000gn/T/ipykernel_58184/1890244566.py:10: FutureWarning: Downcasting behavior in `replace` is deprecated and will be removed in a future version. To retain the old behavior, explicitly call `result.infer_objects(copy=False)`. To opt-in to the future behavior, set `pd.set_option('future.no_silent_downcasting', True)`\n",
    "  return df.replace([\"/\", \"／\", \"-\", \"空\", \"\"], np.nan)\n",
    "\"\"\"\n",
    "\n",
    "# 移除指定列中包含空值的行\n",
    "def remove_rows_with_null(df, columns=None):\n",
    "    \"\"\"\n",
    "    移除指定列中包含空值的行\n",
    "    \n",
    "    参数:\n",
    "    df (pandas.DataFrame): 需要处理的数据框\n",
    "    columns (list): 要检查空值的列名列表，默认为['city', 'year']\n",
    "    \n",
    "    返回:\n",
    "    pandas.DataFrame: 移除了指定列中包含空值的行后的数据框\n",
    "    \"\"\"\n",
    "    # 创建一个布尔掩码，表示这些列中是否有空值\n",
    "    if columns is None:\n",
    "        columns = ['city', 'year']\n",
    "    mask = df[columns].notna().all(axis=1)\n",
    "    \n",
    "    # 使用掩码筛选数据框\n",
    "    df_filtered = df[mask].copy()\n",
    "    \n",
    "    # 输出移除的行数\n",
    "    removed_count = len(df) - len(df_filtered)\n",
    "    if removed_count > 0:\n",
    "        print(f\"已移除 {removed_count} 行数据，这些行在 {columns} 列中包含空值\")\n",
    "    \n",
    "    return df_filtered\n",
    "\n",
    "# 添加元数据\n",
    "df_2017 = add_metadata(df_2017, 2017, '全国')\n",
    "df_2018_prov = add_metadata(df_2018_prov, 2018, '省级')\n",
    "df_2018_prefecture = add_metadata(df_2018_prefecture, 2018, '地级')\n",
    "df_2019_prov = add_metadata(df_2019_prov, 2019, '省级')\n",
    "df_2019_prefecture = add_metadata(df_2019_prefecture, 2019, '地级')\n",
    "df_2020_prov = add_metadata(df_2020_prov, 2020, '省级')\n",
    "df_2020_prefecture = add_metadata(df_2020_prefecture, 2020, '地级')\n",
    "df_2021_prov = add_metadata(df_2021_prov, 2021, '省域')\n",
    "df_2021_city = add_metadata(df_2021_city, 2021, '城市')\n",
    "df_2022_prov = add_metadata(df_2022_prov, 2022, '省域')\n",
    "df_2022_city = add_metadata(df_2022_city, 2022, '城市')\n",
    "df_2023_prov = add_metadata(df_2023_prov, 2023, '省域')\n",
    "df_2023_city = add_metadata(df_2023_city, 2023, '城市')\n",
    "df_2024_prov = add_metadata(df_2024_prov, 2024, '省域')\n",
    "df_2024_city = add_metadata(df_2024_city, 2024, '城市')"
   ],
   "id": "bdaaee1267f52585",
   "outputs": [],
   "execution_count": 4
  },
  {
   "metadata": {
    "ExecuteTime": {
     "end_time": "2025-03-24T05:16:20.428493Z",
     "start_time": "2025-03-24T05:16:20.414710Z"
    }
   },
   "cell_type": "code",
   "source": [
    "# 将所有数据框放入列表中\n",
    "all_dfs = [\n",
    "    df_2017, \n",
    "    df_2018_prov, df_2018_prefecture,\n",
    "    df_2019_prov, df_2019_prefecture,\n",
    "    df_2020_prov, df_2020_prefecture,\n",
    "    df_2021_prov, df_2021_city,\n",
    "    df_2022_prov, df_2022_city,\n",
    "    df_2023_prov, df_2023_city,\n",
    "    df_2024_prov, df_2024_city\n",
    "]\n",
    "\n",
    "# 使用concat函数合并所有数据框，设置ignore_index=True以重置索引\n",
    "# 设置sort=False以保持原始列的顺序，这样我们可以更容易地看到哪些年份有哪些指标\n",
    "combined_df = pd.concat(all_dfs, ignore_index=True, sort=False)\n",
    "\n",
    "# 重新排列列，使city、year和type在前面\n",
    "columns_order = ['city', 'year', 'type'] + [col for col in combined_df.columns if col not in ['city', 'year', 'type']]\n",
    "combined_df = combined_df[columns_order]\n",
    "\n",
    "# 按年份和城市排序\n",
    "combined_df = combined_df.sort_values(['year', 'city']).reset_index(drop=True)\n",
    "combined_df = replace_slash_with_nan(combined_df)\n",
    "combined_df = remove_rows_with_null(combined_df)\n",
    "\n",
    "\n",
    "# # 显示合并后的数据框的前几行和基本信息\n",
    "# print(combined_df.head())\n",
    "# print(\"\\n列名:\", combined_df.columns.tolist())\n",
    "# print(\"\\n数据框形状:\", combined_df.shape)\n",
    "# print(\"\\n每年数据数量:\")\n",
    "# print(combined_df['year'].value_counts().sort_index())\n",
    "\n",
    "# # 可以保存为Excel文件\n",
    "# combined_df.to_csv(\"data/combined_data.csv\", index=False)"
   ],
   "id": "72b152743d3a3273",
   "outputs": [
    {
     "name": "stdout",
     "output_type": "stream",
     "text": [
      "已移除 22 行数据，这些行在 ['city', 'year'] 列中包含空值\n"
     ]
    },
    {
     "name": "stderr",
     "output_type": "stream",
     "text": [
      "/var/folders/m7/k7s5k7vj02zd19n13d0b4f300000gn/T/ipykernel_67084/3471734593.py:10: FutureWarning: Downcasting behavior in `replace` is deprecated and will be removed in a future version. To retain the old behavior, explicitly call `result.infer_objects(copy=False)`. To opt-in to the future behavior, set `pd.set_option('future.no_silent_downcasting', True)`\n",
      "  return df.replace([\"/\", \"／\", \"-\", \"空\", \"\"], np.nan)\n"
     ]
    }
   ],
   "execution_count": 5
  },
  {
   "metadata": {
    "ExecuteTime": {
     "end_time": "2025-03-24T05:16:20.441864Z",
     "start_time": "2025-03-24T05:16:20.429264Z"
    }
   },
   "cell_type": "code",
   "source": "combined_df.to_csv(\"data/open_index.csv\", index=False)",
   "id": "e72880d7cfc04c58",
   "outputs": [],
   "execution_count": 6
  }
 ],
 "metadata": {
  "kernelspec": {
   "display_name": "Python 3",
   "language": "python",
   "name": "python3"
  },
  "language_info": {
   "codemirror_mode": {
    "name": "ipython",
    "version": 2
   },
   "file_extension": ".py",
   "mimetype": "text/x-python",
   "name": "python",
   "nbconvert_exporter": "python",
   "pygments_lexer": "ipython2",
   "version": "2.7.6"
  }
 },
 "nbformat": 4,
 "nbformat_minor": 5
}
